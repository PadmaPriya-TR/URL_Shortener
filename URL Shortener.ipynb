{
 "cells": [
  {
   "cell_type": "code",
   "execution_count": 27,
   "id": "8714ec66",
   "metadata": {},
   "outputs": [],
   "source": [
    "import pyshorteners\n",
    "import clipboard\n",
    "from tkinter import *\n",
    "window=Tk()\n",
    "window.geometry(\"300x300\")\n",
    "window.resizable(False,False)\n",
    "window.configure(bg=\"#1abc9c\")\n",
    "window.title(\"URL Shortener\")\n",
    "url_input=Entry(window,font=(\"Hervetica\",\"16\"))\n",
    "url_input.grid(row=2,column=3,pady=6)\n",
    "str_url=StringVar(window)\n",
    "message=StringVar(window)\n",
    "def short_url():\n",
    "    try:\n",
    "        url=url_input.get()\n",
    "        result=pyshorteners.Shortener().tinyurl.short(url)\n",
    "        str_url.set(result)\n",
    "        url_input.delete(0,END)\n",
    "    except:\n",
    "        str_url.set(\"Enter URL !!\")\n",
    "        shortened_url.after(1000,lambda:str_url.set(\"\"))\n",
    "shortened_url=Label(window,textvariable=str_url,font=(\"Hervetica\",\"16\"),fg=\"red\",bg=\"#1abc9c\")\n",
    "shortened_url.grid(row=5,column=3,pady=6)\n",
    "message_disp=Label(window,textvariable=message,font=(\"Hervetica\",\"10\"),fg=\"#fff\",bg=\"#1abc9c\")\n",
    "message_disp.grid(row=6,column=3,pady=6)\n",
    "btn=Button(window,text=\"Short URL\",padx=8,pady=4,bg=\"#2ecc71\",fg=\"#fff\",font=(\"Hervetica\",\"16\"),activebackground=\"#16a085\",command=short_url)\n",
    "btn.grid(row=3,column=3,pady=6)\n",
    "def copy_short_url():\n",
    "    try:\n",
    "        res=str_url.get()\n",
    "        if(res!=\"\")and(res!=\"Enter URL !!\"):\n",
    "                clipboard.copy(str_url.get())\n",
    "                message.set(\"URL copied successfully !!\")\n",
    "                message_disp.after(2000,lambda:message.set(\"\"))\n",
    "        else:\n",
    "            message.set(\"Nothing to copy !!\")\n",
    "            message_disp.after(2000,lambda:message.set(\"\"))\n",
    "    except:\n",
    "        message.set(\"Something went wrong. Try again !!\")\n",
    "        message_disp.after(2000,lambda:message.set(\"\"))\n",
    "copy_btn=Button(window,text=\"Copy\",padx=8,pady=4,bg=\"#34495e\",fg=\"#fff\",font=(\"Hervetica\",\"12\"),command=copy_short_url)\n",
    "copy_btn.grid(row=4,column=3,padx=10,pady=6)\n",
    "window.mainloop()"
   ]
  },
  {
   "cell_type": "code",
   "execution_count": null,
   "id": "5f610c5c",
   "metadata": {},
   "outputs": [],
   "source": []
  }
 ],
 "metadata": {
  "kernelspec": {
   "display_name": "Python 3",
   "language": "python",
   "name": "python3"
  },
  "language_info": {
   "codemirror_mode": {
    "name": "ipython",
    "version": 3
   },
   "file_extension": ".py",
   "mimetype": "text/x-python",
   "name": "python",
   "nbconvert_exporter": "python",
   "pygments_lexer": "ipython3",
   "version": "3.9.5"
  }
 },
 "nbformat": 4,
 "nbformat_minor": 5
}
